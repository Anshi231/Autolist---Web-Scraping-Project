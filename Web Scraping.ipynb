{
 "cells": [
  {
   "cell_type": "markdown",
   "id": "baeb2080-0642-4e42-9342-4409b39d4513",
   "metadata": {},
   "source": [
    "#####  Step-1: Importing Required Libraries"
   ]
  },
  {
   "cell_type": "code",
   "execution_count": 43,
   "id": "c4d8b827-2ddc-4a48-9e1e-1191a59bbbe8",
   "metadata": {},
   "outputs": [],
   "source": [
    "import requests\n",
    "import pandas as pd\n",
    "from bs4 import BeautifulSoup"
   ]
  },
  {
   "cell_type": "markdown",
   "id": "b1e17313-a242-4f34-a50c-07a49f9607d7",
   "metadata": {},
   "source": [
    "##### Step-2: CURL"
   ]
  },
  {
   "cell_type": "code",
   "execution_count": 73,
   "id": "808107f3-d4f6-4aae-b880-889523a41ba2",
   "metadata": {},
   "outputs": [],
   "source": [
    "headers = {\n",
    "    'sec-ch-ua-platform': '\"Android\"',\n",
    "    'Referer': 'https://www.autolist.com/listings',\n",
    "    'User-Agent': 'Mozilla/5.0 (Linux; Android 6.0; Nexus 5 Build/MRA58N) AppleWebKit/537.36 (KHTML, like Gecko) Chrome/131.0.0.0 Mobile Safari/537.36',\n",
    "    'sec-ch-ua': '\"Google\"',\n",
    "    'sec-ch-ua-mobile': '?1',\n",
    "}\n",
    "params = (\n",
    "    ('ads', 'true^'),\n",
    "    ('include_total_price_change', 'true^'),\n",
    "    ('include_time_on_market', 'true^'),\n",
    "    ('include_relative_price_difference', 'true^'),\n",
    "    ('body_style^/[^/]', 'sedan^'),\n",
    "    ('latitude', '30.2672^'),\n",
    "    ('limit', '20^'),\n",
    "    ('longitude', '-97.7431^'),\n",
    "    ('page', '1^'),\n",
    "    ('radius', '100^'),\n",
    "    ('zip', '^'),\n",
    ")\n",
    "\n",
    "response = requests.get('https://www.autolist.com/api/v2/search', headers=headers, params=params)"
   ]
  },
  {
   "cell_type": "markdown",
   "id": "cff47dda-1f17-45a1-af4e-c3444b33461f",
   "metadata": {},
   "source": [
    "##### Step-3: Checking Status Code"
   ]
  },
  {
   "cell_type": "code",
   "execution_count": 17,
   "id": "95633ac5-6573-4dd3-9e45-bd8e8f5be679",
   "metadata": {},
   "outputs": [
    {
     "name": "stdout",
     "output_type": "stream",
     "text": [
      "200\n"
     ]
    }
   ],
   "source": [
    "print(response.status_code)"
   ]
  },
  {
   "cell_type": "markdown",
   "id": "9d020dee-3ef6-4d01-bf33-1b97686f2d30",
   "metadata": {},
   "source": [
    "##### Step-4: Create JSON Object"
   ]
  },
  {
   "cell_type": "code",
   "execution_count": 20,
   "id": "2dfccbb9-c96e-4bae-a594-98f7de9c2f09",
   "metadata": {},
   "outputs": [],
   "source": [
    "results_json = response.json()"
   ]
  },
  {
   "cell_type": "markdown",
   "id": "dc2eeb76-09d0-4d96-819d-591f43917244",
   "metadata": {},
   "source": [
    "##### Step-5: Checking the Type of JSON object"
   ]
  },
  {
   "cell_type": "code",
   "execution_count": 21,
   "id": "c214239a-1d60-4922-9e55-b7d93b6bc79f",
   "metadata": {},
   "outputs": [
    {
     "data": {
      "text/plain": [
       "dict"
      ]
     },
     "execution_count": 21,
     "metadata": {},
     "output_type": "execute_result"
    }
   ],
   "source": [
    "type(results_json)"
   ]
  },
  {
   "cell_type": "markdown",
   "id": "6790f885-b97f-4685-861c-5a7ec5b691a0",
   "metadata": {},
   "source": [
    "##### Step-6: Obtaining the key value of JSON object"
   ]
  },
  {
   "cell_type": "code",
   "execution_count": 22,
   "id": "4154ea54-94a5-4d72-b4d6-ec84174b261b",
   "metadata": {},
   "outputs": [
    {
     "data": {
      "text/plain": [
       "dict_keys(['total_count', 'total_count_formatted', 'hits_count', 'records', 'promoted_aggregations', 'facet_counts', 'ad_info'])"
      ]
     },
     "execution_count": 22,
     "metadata": {},
     "output_type": "execute_result"
    }
   ],
   "source": [
    "results_json.keys()"
   ]
  },
  {
   "cell_type": "markdown",
   "id": "c7938192-5040-48d6-b4d5-c94111b50269",
   "metadata": {},
   "source": [
    "##### Step-7: Checking the type of JSON Object which contains the records"
   ]
  },
  {
   "cell_type": "code",
   "execution_count": 25,
   "id": "9aaab722-cd14-4925-9af4-e2d6a6a4dea9",
   "metadata": {},
   "outputs": [
    {
     "data": {
      "text/plain": [
       "list"
      ]
     },
     "execution_count": 25,
     "metadata": {},
     "output_type": "execute_result"
    }
   ],
   "source": [
    "type(results_json['records'])"
   ]
  },
  {
   "cell_type": "markdown",
   "id": "c117161a-b410-4bde-a931-73dd6e0ea12d",
   "metadata": {},
   "source": [
    "##### Step-8: Checking the length of the JSON object"
   ]
  },
  {
   "cell_type": "code",
   "execution_count": 26,
   "id": "f67eb2ef-cf51-4204-9976-62cd5910811b",
   "metadata": {},
   "outputs": [
    {
     "data": {
      "text/plain": [
       "20"
      ]
     },
     "execution_count": 26,
     "metadata": {},
     "output_type": "execute_result"
    }
   ],
   "source": [
    "len(results_json['records'])"
   ]
  },
  {
   "cell_type": "code",
   "execution_count": 74,
   "id": "78607123-05ea-4a88-b979-3390ab5ef7e7",
   "metadata": {},
   "outputs": [
    {
     "data": {
      "text/plain": [
       "{'id': 301104729,\n",
       " 'accepts_click_off': True,\n",
       " 'accepts_leads': True,\n",
       " 'accepts_leads_and_click_off': True,\n",
       " 'always_ask_for_zip': False,\n",
       " 'available_nationwide': False,\n",
       " 'backup_camera': True,\n",
       " 'bed': None,\n",
       " 'bluetooth': True,\n",
       " 'body_style': 'sedan',\n",
       " 'body_type': 'sedan',\n",
       " 'cabin': None,\n",
       " 'categories': ['fuel_efficient', 'commuter'],\n",
       " 'city': 'Live Oak',\n",
       " 'city_mpg': 27,\n",
       " 'clickoff_url': 'https://www.aviscarsales.com/catcher.esl?vin=1N4BL4DV1RN359456&utm_source=autolist&utm_medium=referral&utm_campaign=vdp_deep_link',\n",
       " 'combined_mpg': 32,\n",
       " 'condition': 'used',\n",
       " 'cpl_value': 15,\n",
       " 'created_at': '2024-10-31T03:07:47.071Z',\n",
       " 'dealer_group_uuid': '82194771-95d6-4e42-9d96-0a838b5cc1f6',\n",
       " 'dealer_name': 'Avis Car Sales - San Antonio',\n",
       " 'distance_from_origin': 61,\n",
       " 'door_count': 4,\n",
       " 'driveline': 'FWD',\n",
       " 'eligible_for_financing': True,\n",
       " 'email_opt_default': True,\n",
       " 'engine_cylinders': 4,\n",
       " 'entertainment': False,\n",
       " 'experience': 'local',\n",
       " 'finance_dealer_id': '10257233',\n",
       " 'financing_experience': 'softpull',\n",
       " 'fuel_type': 'gasoline',\n",
       " 'green_engine': False,\n",
       " 'handicap_accessible': False,\n",
       " 'has_photos': True,\n",
       " 'heated_seats': False,\n",
       " 'hwy_mpg': 39,\n",
       " 'ipod_aux_input': False,\n",
       " 'is_hot': False,\n",
       " 'lane_departure_warning_system': False,\n",
       " 'lat': 29.5567,\n",
       " 'leather': False,\n",
       " 'lon': -98.3649,\n",
       " 'make_and_model': 'nissan_altima',\n",
       " 'make_name': 'Nissan',\n",
       " 'max_distance': None,\n",
       " 'mileage': 37658,\n",
       " 'model_id': 1511,\n",
       " 'model_name': 'Altima',\n",
       " 'national_backfill': False,\n",
       " 'national_backfill_priority': None,\n",
       " 'navigation': False,\n",
       " 'normalized_color_exterior': 'white',\n",
       " 'normalized_color_interior': 'gray',\n",
       " 'one_owner': True,\n",
       " 'open_in_new_window': False,\n",
       " 'partner_type': 'dealer_direct',\n",
       " 'phone': '2109400096',\n",
       " 'photo_urls': ['https://static.cargurus.com/images/forsale/2024/10/31/23/47/2024_nissan_altima-pic-445065553523413569-1024x768.jpeg?io=true&width=320&format=jpeg',\n",
       "  'https://static.cargurus.com/images/forsale/2024/10/31/23/47/2024_nissan_altima-pic-1720070916677507762-1024x768.jpeg?io=true&width=320&format=jpeg',\n",
       "  'https://static.cargurus.com/images/forsale/2024/10/31/23/47/2024_nissan_altima-pic-1371807333292979712-1024x768.jpeg?io=true&width=320&format=jpeg',\n",
       "  'https://static.cargurus.com/images/forsale/2024/10/31/23/47/2024_nissan_altima-pic-1733054790198769314-1024x768.jpeg?io=true&width=320&format=jpeg',\n",
       "  'https://static.cargurus.com/images/forsale/2024/10/31/23/47/2024_nissan_altima-pic-3781371254207508987-1024x768.jpeg?io=true&width=320&format=jpeg',\n",
       "  'https://static.cargurus.com/images/forsale/2024/10/31/23/47/2024_nissan_altima-pic-4981304582838480094-1024x768.jpeg?io=true&width=320&format=jpeg',\n",
       "  'https://static.cargurus.com/images/forsale/2024/10/31/23/47/2024_nissan_altima-pic-1432963649120542761-1024x768.jpeg?io=true&width=320&format=jpeg',\n",
       "  'https://static.cargurus.com/images/forsale/2024/10/31/23/47/2024_nissan_altima-pic-2284148156436614407-1024x768.jpeg?io=true&width=320&format=jpeg',\n",
       "  'https://static.cargurus.com/images/forsale/2024/10/31/23/47/2024_nissan_altima-pic-2138918269500035898-1024x768.jpeg?io=true&width=320&format=jpeg',\n",
       "  'https://static.cargurus.com/images/forsale/2024/10/31/23/47/2024_nissan_altima-pic-3233474654016978839-1024x768.jpeg?io=true&width=320&format=jpeg',\n",
       "  'https://static.cargurus.com/images/forsale/2024/10/31/23/47/2024_nissan_altima-pic-4017435827735416809-1024x768.jpeg?io=true&width=320&format=jpeg',\n",
       "  'https://static.cargurus.com/images/forsale/2024/10/31/23/47/2024_nissan_altima-pic-7522635033051597941-1024x768.jpeg?io=true&width=320&format=jpeg',\n",
       "  'https://static.cargurus.com/images/forsale/2024/10/31/23/47/2024_nissan_altima-pic-3195994279725951822-1024x768.jpeg?io=true&width=320&format=jpeg',\n",
       "  'https://static.cargurus.com/images/forsale/2024/10/31/23/47/2024_nissan_altima-pic-1501656597407531534-1024x768.jpeg?io=true&width=320&format=jpeg',\n",
       "  'https://static.cargurus.com/images/forsale/2024/10/31/23/47/2024_nissan_altima-pic-602443220996656293-1024x768.jpeg?io=true&width=320&format=jpeg',\n",
       "  'https://static.cargurus.com/images/forsale/2024/10/31/23/47/2024_nissan_altima-pic-247727919891384488-1024x768.jpeg?io=true&width=320&format=jpeg',\n",
       "  'https://static.cargurus.com/images/forsale/2024/10/31/23/47/2024_nissan_altima-pic-6658195934828108430-1024x768.jpeg?io=true&width=320&format=jpeg',\n",
       "  'https://static.cargurus.com/images/forsale/2024/10/31/23/47/2024_nissan_altima-pic-3628182653485990589-1024x768.jpeg?io=true&width=320&format=jpeg',\n",
       "  'https://static.cargurus.com/images/forsale/2024/10/31/23/47/2024_nissan_altima-pic-3912150678222614005-1024x768.jpeg?io=true&width=320&format=jpeg',\n",
       "  'https://static.cargurus.com/images/forsale/2024/10/31/23/47/2024_nissan_altima-pic-5018944060329508031-1024x768.jpeg?io=true&width=320&format=jpeg',\n",
       "  'https://static.cargurus.com/images/forsale/2024/10/31/23/47/2024_nissan_altima-pic-7909088031935722918-1024x768.jpeg?io=true&width=320&format=jpeg',\n",
       "  'https://static.cargurus.com/images/forsale/2024/10/31/23/47/2024_nissan_altima-pic-3820063696170658190-1024x768.jpeg?io=true&width=320&format=jpeg',\n",
       "  'https://static.cargurus.com/images/forsale/2024/10/31/23/47/2024_nissan_altima-pic-4599076238545176178-1024x768.jpeg?io=true&width=320&format=jpeg',\n",
       "  'https://static.cargurus.com/images/forsale/2024/10/31/23/47/2024_nissan_altima-pic-2776206822987770579-1024x768.jpeg?io=true&width=320&format=jpeg',\n",
       "  'https://static.cargurus.com/images/forsale/2024/10/31/23/47/2024_nissan_altima-pic-6144946538609841505-1024x768.jpeg?io=true&width=320&format=jpeg',\n",
       "  'https://static.cargurus.com/images/forsale/2024/10/31/23/47/2024_nissan_altima-pic-8440563545757586818-1024x768.jpeg?io=true&width=320&format=jpeg',\n",
       "  'https://static.cargurus.com/images/forsale/2024/10/31/23/47/2024_nissan_altima-pic-1419235807449697535-1024x768.jpeg?io=true&width=320&format=jpeg',\n",
       "  'https://static.cargurus.com/images/forsale/2024/10/31/23/47/2024_nissan_altima-pic-554892218813453518-1024x768.jpeg?io=true&width=320&format=jpeg',\n",
       "  'https://static.cargurus.com/images/forsale/2024/10/31/23/47/2024_nissan_altima-pic-3193100872194611074-1024x768.jpeg?io=true&width=320&format=jpeg',\n",
       "  'https://static.cargurus.com/images/forsale/2024/10/31/23/47/2024_nissan_altima-pic-6048205475615372345-1024x768.jpeg?io=true&width=320&format=jpeg',\n",
       "  'https://static.cargurus.com/images/forsale/2024/10/31/23/47/2024_nissan_altima-pic-8207297084809217942-1024x768.jpeg?io=true&width=320&format=jpeg'],\n",
       " 'previous_price': 20699,\n",
       " 'price': 19999,\n",
       " 'price_dropped_at': '2024-11-21T03:42:49.255Z',\n",
       " 'price_with_listimate': 19999,\n",
       " 'primary_photo_url': 'https://static.cargurus.com/images/forsale/2024/10/31/23/47/2024_nissan_altima-pic-445065553523413569-1024x768.jpeg',\n",
       " 'provider_group_id': 229,\n",
       " 'provider_id': 199,\n",
       " 'provider_name': 'car_gurus',\n",
       " 'provider_priority': 0.17,\n",
       " 'provider_priority_local': 0.17,\n",
       " 'quality_score': 1,\n",
       " 'quick_picks_eligible': False,\n",
       " 'rear_wheel': None,\n",
       " 'recent_price_drop': False,\n",
       " 'region_name': None,\n",
       " 'regional': False,\n",
       " 'require_email_opt_in': False,\n",
       " 'requires_address_with_lead': False,\n",
       " 'roof_rack': False,\n",
       " 'search_make': 'nissan',\n",
       " 'search_model': 'altima',\n",
       " 'show_new_mileage': False,\n",
       " 'state': 'TX',\n",
       " 'sunroof': False,\n",
       " 'third_row_seats': False,\n",
       " 'thumbnail_url': 'https://static.cargurus.com/images/forsale/2024/10/31/23/47/2024_nissan_altima-pic-445065553523413569-1024x768.jpeg?io=true&width=160&format=jpeg',\n",
       " 'thumbnail_url_large': 'https://static.cargurus.com/images/forsale/2024/10/31/23/47/2024_nissan_altima-pic-445065553523413569-1024x768.jpeg?io=true&width=320&format=jpeg',\n",
       " 'towing': False,\n",
       " 'tracking_params': {'id_from_provider': '399908905',\n",
       "  'remote_dealer_id': '416141',\n",
       "  'dealer_name': 'Avis Car Sales - San Antonio',\n",
       "  'remote_sku': '54212454',\n",
       "  'experience': 'local',\n",
       "  'rooftop_unique_name': None,\n",
       "  'rooftop_uuid': None,\n",
       "  'dealer_unique_name': 'avis_san_antonio',\n",
       "  'dealer_uuid': '1a094859-a34c-408e-8a54-58b485ac5c2f',\n",
       "  'dealer_group_unique_name': 'avis_cargurus',\n",
       "  'dealer_group_uuid': '82194771-95d6-4e42-9d96-0a838b5cc1f6'},\n",
       " 'transmission': 'automatic',\n",
       " 'trim': '2.5 SV',\n",
       " 'updated_at': '2024-11-21T03:43:54.811Z',\n",
       " 'vdp_url': '/nissan-altima#vin=1N4BL4DV1RN359456',\n",
       " 'vin': '1N4BL4DV1RN359456',\n",
       " 'warranty': True,\n",
       " 'year': 2024}"
      ]
     },
     "execution_count": 74,
     "metadata": {},
     "output_type": "execute_result"
    }
   ],
   "source": [
    "#Starting point for our first result\n",
    "results_json['records'][0]"
   ]
  },
  {
   "cell_type": "markdown",
   "id": "f69de926-14cf-4e92-80f1-626ee3a10981",
   "metadata": {},
   "source": [
    "##### Gathering Data Point for our first Result"
   ]
  },
  {
   "cell_type": "code",
   "execution_count": 76,
   "id": "00f8e1d1-2f7d-45e5-ad51-0ec237107a36",
   "metadata": {},
   "outputs": [
    {
     "data": {
      "text/plain": [
       "1511"
      ]
     },
     "execution_count": 76,
     "metadata": {},
     "output_type": "execute_result"
    }
   ],
   "source": [
    "#Model_id\n",
    "results_json['records'][0]['model_id']"
   ]
  },
  {
   "cell_type": "code",
   "execution_count": 77,
   "id": "a2540838-a103-4229-a740-6e161b9d4ecc",
   "metadata": {},
   "outputs": [
    {
     "data": {
      "text/plain": [
       "'Altima'"
      ]
     },
     "execution_count": 77,
     "metadata": {},
     "output_type": "execute_result"
    }
   ],
   "source": [
    "#Model Name\n",
    "results_json['records'][0]['model_name']"
   ]
  },
  {
   "cell_type": "code",
   "execution_count": 78,
   "id": "91f57071-d349-4f6e-848b-0b3add0f3464",
   "metadata": {},
   "outputs": [
    {
     "data": {
      "text/plain": [
       "['https://static.cargurus.com/images/forsale/2024/10/31/23/47/2024_nissan_altima-pic-445065553523413569-1024x768.jpeg?io=true&width=320&format=jpeg',\n",
       " 'https://static.cargurus.com/images/forsale/2024/10/31/23/47/2024_nissan_altima-pic-1720070916677507762-1024x768.jpeg?io=true&width=320&format=jpeg',\n",
       " 'https://static.cargurus.com/images/forsale/2024/10/31/23/47/2024_nissan_altima-pic-1371807333292979712-1024x768.jpeg?io=true&width=320&format=jpeg',\n",
       " 'https://static.cargurus.com/images/forsale/2024/10/31/23/47/2024_nissan_altima-pic-1733054790198769314-1024x768.jpeg?io=true&width=320&format=jpeg',\n",
       " 'https://static.cargurus.com/images/forsale/2024/10/31/23/47/2024_nissan_altima-pic-3781371254207508987-1024x768.jpeg?io=true&width=320&format=jpeg',\n",
       " 'https://static.cargurus.com/images/forsale/2024/10/31/23/47/2024_nissan_altima-pic-4981304582838480094-1024x768.jpeg?io=true&width=320&format=jpeg',\n",
       " 'https://static.cargurus.com/images/forsale/2024/10/31/23/47/2024_nissan_altima-pic-1432963649120542761-1024x768.jpeg?io=true&width=320&format=jpeg',\n",
       " 'https://static.cargurus.com/images/forsale/2024/10/31/23/47/2024_nissan_altima-pic-2284148156436614407-1024x768.jpeg?io=true&width=320&format=jpeg',\n",
       " 'https://static.cargurus.com/images/forsale/2024/10/31/23/47/2024_nissan_altima-pic-2138918269500035898-1024x768.jpeg?io=true&width=320&format=jpeg',\n",
       " 'https://static.cargurus.com/images/forsale/2024/10/31/23/47/2024_nissan_altima-pic-3233474654016978839-1024x768.jpeg?io=true&width=320&format=jpeg',\n",
       " 'https://static.cargurus.com/images/forsale/2024/10/31/23/47/2024_nissan_altima-pic-4017435827735416809-1024x768.jpeg?io=true&width=320&format=jpeg',\n",
       " 'https://static.cargurus.com/images/forsale/2024/10/31/23/47/2024_nissan_altima-pic-7522635033051597941-1024x768.jpeg?io=true&width=320&format=jpeg',\n",
       " 'https://static.cargurus.com/images/forsale/2024/10/31/23/47/2024_nissan_altima-pic-3195994279725951822-1024x768.jpeg?io=true&width=320&format=jpeg',\n",
       " 'https://static.cargurus.com/images/forsale/2024/10/31/23/47/2024_nissan_altima-pic-1501656597407531534-1024x768.jpeg?io=true&width=320&format=jpeg',\n",
       " 'https://static.cargurus.com/images/forsale/2024/10/31/23/47/2024_nissan_altima-pic-602443220996656293-1024x768.jpeg?io=true&width=320&format=jpeg',\n",
       " 'https://static.cargurus.com/images/forsale/2024/10/31/23/47/2024_nissan_altima-pic-247727919891384488-1024x768.jpeg?io=true&width=320&format=jpeg',\n",
       " 'https://static.cargurus.com/images/forsale/2024/10/31/23/47/2024_nissan_altima-pic-6658195934828108430-1024x768.jpeg?io=true&width=320&format=jpeg',\n",
       " 'https://static.cargurus.com/images/forsale/2024/10/31/23/47/2024_nissan_altima-pic-3628182653485990589-1024x768.jpeg?io=true&width=320&format=jpeg',\n",
       " 'https://static.cargurus.com/images/forsale/2024/10/31/23/47/2024_nissan_altima-pic-3912150678222614005-1024x768.jpeg?io=true&width=320&format=jpeg',\n",
       " 'https://static.cargurus.com/images/forsale/2024/10/31/23/47/2024_nissan_altima-pic-5018944060329508031-1024x768.jpeg?io=true&width=320&format=jpeg',\n",
       " 'https://static.cargurus.com/images/forsale/2024/10/31/23/47/2024_nissan_altima-pic-7909088031935722918-1024x768.jpeg?io=true&width=320&format=jpeg',\n",
       " 'https://static.cargurus.com/images/forsale/2024/10/31/23/47/2024_nissan_altima-pic-3820063696170658190-1024x768.jpeg?io=true&width=320&format=jpeg',\n",
       " 'https://static.cargurus.com/images/forsale/2024/10/31/23/47/2024_nissan_altima-pic-4599076238545176178-1024x768.jpeg?io=true&width=320&format=jpeg',\n",
       " 'https://static.cargurus.com/images/forsale/2024/10/31/23/47/2024_nissan_altima-pic-2776206822987770579-1024x768.jpeg?io=true&width=320&format=jpeg',\n",
       " 'https://static.cargurus.com/images/forsale/2024/10/31/23/47/2024_nissan_altima-pic-6144946538609841505-1024x768.jpeg?io=true&width=320&format=jpeg',\n",
       " 'https://static.cargurus.com/images/forsale/2024/10/31/23/47/2024_nissan_altima-pic-8440563545757586818-1024x768.jpeg?io=true&width=320&format=jpeg',\n",
       " 'https://static.cargurus.com/images/forsale/2024/10/31/23/47/2024_nissan_altima-pic-1419235807449697535-1024x768.jpeg?io=true&width=320&format=jpeg',\n",
       " 'https://static.cargurus.com/images/forsale/2024/10/31/23/47/2024_nissan_altima-pic-554892218813453518-1024x768.jpeg?io=true&width=320&format=jpeg',\n",
       " 'https://static.cargurus.com/images/forsale/2024/10/31/23/47/2024_nissan_altima-pic-3193100872194611074-1024x768.jpeg?io=true&width=320&format=jpeg',\n",
       " 'https://static.cargurus.com/images/forsale/2024/10/31/23/47/2024_nissan_altima-pic-6048205475615372345-1024x768.jpeg?io=true&width=320&format=jpeg',\n",
       " 'https://static.cargurus.com/images/forsale/2024/10/31/23/47/2024_nissan_altima-pic-8207297084809217942-1024x768.jpeg?io=true&width=320&format=jpeg']"
      ]
     },
     "execution_count": 78,
     "metadata": {},
     "output_type": "execute_result"
    }
   ],
   "source": [
    "#Photo URLs\n",
    "results_json['records'][0]['photo_urls']"
   ]
  },
  {
   "cell_type": "code",
   "execution_count": 80,
   "id": "cec22672-ae2e-4bf8-8a49-5783078bd2a7",
   "metadata": {},
   "outputs": [
    {
     "data": {
      "text/plain": [
       "19999"
      ]
     },
     "execution_count": 80,
     "metadata": {},
     "output_type": "execute_result"
    }
   ],
   "source": [
    "#Price\n",
    "results_json['records'][0]['price']"
   ]
  },
  {
   "cell_type": "code",
   "execution_count": 81,
   "id": "1e0877c5-cdbc-46f7-a364-3f7036c71c45",
   "metadata": {},
   "outputs": [
    {
     "data": {
      "text/plain": [
       "20699"
      ]
     },
     "execution_count": 81,
     "metadata": {},
     "output_type": "execute_result"
    }
   ],
   "source": [
    "#Previous Price\n",
    "results_json['records'][0]['previous_price']"
   ]
  },
  {
   "cell_type": "code",
   "execution_count": 82,
   "id": "c06e5fa8-dc32-495c-970a-829cf7c33638",
   "metadata": {},
   "outputs": [
    {
     "data": {
      "text/plain": [
       "'car_gurus'"
      ]
     },
     "execution_count": 82,
     "metadata": {},
     "output_type": "execute_result"
    }
   ],
   "source": [
    "#Provider Name\n",
    "results_json['records'][0]['provider_name']"
   ]
  },
  {
   "cell_type": "code",
   "execution_count": 83,
   "id": "07593526-b16f-4ab6-80a5-5ae04f7df377",
   "metadata": {},
   "outputs": [
    {
     "data": {
      "text/plain": [
       "37658"
      ]
     },
     "execution_count": 83,
     "metadata": {},
     "output_type": "execute_result"
    }
   ],
   "source": [
    "#Mileage\n",
    "results_json['records'][0]['mileage']"
   ]
  },
  {
   "cell_type": "code",
   "execution_count": 84,
   "id": "0d9a05fa-10ba-454b-a345-7d778ea15337",
   "metadata": {},
   "outputs": [
    {
     "data": {
      "text/plain": [
       "'Nissan'"
      ]
     },
     "execution_count": 84,
     "metadata": {},
     "output_type": "execute_result"
    }
   ],
   "source": [
    "#Make Name\n",
    "results_json['records'][0]['make_name']"
   ]
  },
  {
   "cell_type": "markdown",
   "id": "2598e2da-db3a-47c9-a41c-8e273f1521b4",
   "metadata": {},
   "source": [
    "##### Step-9: Creating an Object"
   ]
  },
  {
   "cell_type": "code",
   "execution_count": 37,
   "id": "19678d64-b3ef-49c5-9096-174eee71feb7",
   "metadata": {},
   "outputs": [],
   "source": [
    "result_items = results_json['records']"
   ]
  },
  {
   "cell_type": "markdown",
   "id": "22257846-3526-4f36-b446-d8cd0d9053d3",
   "metadata": {},
   "source": [
    "##### Step-10: Calculating the Length"
   ]
  },
  {
   "cell_type": "code",
   "execution_count": 38,
   "id": "03becc5f-8350-4d2b-b8d2-76d137c94770",
   "metadata": {},
   "outputs": [
    {
     "data": {
      "text/plain": [
       "20"
      ]
     },
     "execution_count": 38,
     "metadata": {},
     "output_type": "execute_result"
    }
   ],
   "source": [
    "len(result_items)"
   ]
  },
  {
   "cell_type": "markdown",
   "id": "d0357216-8257-4814-9585-797001ade32c",
   "metadata": {},
   "source": [
    "##### Step-11: Putting Everything Together - Loop through results and append data inside a list"
   ]
  },
  {
   "cell_type": "code",
   "execution_count": 40,
   "id": "069f96da-4a66-4882-be0b-6e67471afefb",
   "metadata": {},
   "outputs": [],
   "source": [
    "model_id = []\n",
    "model_name = []\n",
    "photo_urls = []\n",
    "price = []\n",
    "previous_price = []\n",
    "provider_name = []\n",
    "mileage  = []\n",
    "make_name = []\n",
    "\n",
    "for result in result_items:\n",
    "    #model_id\n",
    "    model_id.append(result['model_id'])\n",
    "    #model_name\n",
    "    model_name.append(result['model_name'])\n",
    "    #photo_urls\n",
    "    photo_urls.append(result['photo_urls'])\n",
    "    #price\n",
    "    price.append(result['price'])\n",
    "    #previous_price\n",
    "    previous_price.append(result['previous_price'])\n",
    "    #provider_name\n",
    "    provider_name.append(result['provider_name'])\n",
    "    #mileage\n",
    "    mileage.append(result['mileage'])\n",
    "    #make_name\n",
    "    make_name.append(result['make_name'])"
   ]
  },
  {
   "cell_type": "markdown",
   "id": "f79be179-83f7-4f2b-8232-02fab1f7f8de",
   "metadata": {},
   "source": [
    "##### Step-12: Pandas Dataframe - Single Page"
   ]
  },
  {
   "cell_type": "code",
   "execution_count": null,
   "id": "2d633152-0541-4a5d-969e-c45b20431a07",
   "metadata": {},
   "outputs": [],
   "source": [
    "sedan_df = pd.DataFrame({'model_id': model_id, 'model_name' : model_name, 'photo_urls' : photo_urls, 'price' : price, 'previous_price' : previous_price, 'provider_name' : provider_name, 'mileage': mileage, 'make_name' : make_name})"
   ]
  },
  {
   "cell_type": "markdown",
   "id": "987dd165-5ca6-4838-8e77-6c56402f4971",
   "metadata": {},
   "source": [
    "##### Step-13: Gathering the first five records"
   ]
  },
  {
   "cell_type": "code",
   "execution_count": 45,
   "id": "c09fa835-18b6-4208-9259-dab681a4aa21",
   "metadata": {},
   "outputs": [
    {
     "data": {
      "text/html": [
       "<div>\n",
       "<style scoped>\n",
       "    .dataframe tbody tr th:only-of-type {\n",
       "        vertical-align: middle;\n",
       "    }\n",
       "\n",
       "    .dataframe tbody tr th {\n",
       "        vertical-align: top;\n",
       "    }\n",
       "\n",
       "    .dataframe thead th {\n",
       "        text-align: right;\n",
       "    }\n",
       "</style>\n",
       "<table border=\"1\" class=\"dataframe\">\n",
       "  <thead>\n",
       "    <tr style=\"text-align: right;\">\n",
       "      <th></th>\n",
       "      <th>model_id</th>\n",
       "      <th>model_name</th>\n",
       "      <th>photo_urls</th>\n",
       "      <th>price</th>\n",
       "      <th>previous_price</th>\n",
       "      <th>provider_name</th>\n",
       "      <th>mileage</th>\n",
       "      <th>make_name</th>\n",
       "    </tr>\n",
       "  </thead>\n",
       "  <tbody>\n",
       "    <tr>\n",
       "      <th>0</th>\n",
       "      <td>1511</td>\n",
       "      <td>Altima</td>\n",
       "      <td>[https://static.cargurus.com/images/forsale/20...</td>\n",
       "      <td>19999</td>\n",
       "      <td>20699.0</td>\n",
       "      <td>car_gurus</td>\n",
       "      <td>37658.0</td>\n",
       "      <td>Nissan</td>\n",
       "    </tr>\n",
       "    <tr>\n",
       "      <th>1</th>\n",
       "      <td>1440</td>\n",
       "      <td>Challenger</td>\n",
       "      <td>[https://static.cargurus.com/images/forsale/20...</td>\n",
       "      <td>42395</td>\n",
       "      <td>44795.0</td>\n",
       "      <td>car_gurus</td>\n",
       "      <td>1072.0</td>\n",
       "      <td>Dodge</td>\n",
       "    </tr>\n",
       "    <tr>\n",
       "      <th>2</th>\n",
       "      <td>880</td>\n",
       "      <td>RAV4</td>\n",
       "      <td>[https://static.cargurus.com/images/forsale/20...</td>\n",
       "      <td>25239</td>\n",
       "      <td>25499.0</td>\n",
       "      <td>car_gurus</td>\n",
       "      <td>31556.0</td>\n",
       "      <td>Toyota</td>\n",
       "    </tr>\n",
       "    <tr>\n",
       "      <th>3</th>\n",
       "      <td>957</td>\n",
       "      <td>F-150</td>\n",
       "      <td>[https://static.cargurus.com/images/forsale/20...</td>\n",
       "      <td>44430</td>\n",
       "      <td>NaN</td>\n",
       "      <td>car_gurus</td>\n",
       "      <td>NaN</td>\n",
       "      <td>Ford</td>\n",
       "    </tr>\n",
       "    <tr>\n",
       "      <th>4</th>\n",
       "      <td>1276</td>\n",
       "      <td>Tahoe</td>\n",
       "      <td>[https://static.cargurus.com/images/forsale/20...</td>\n",
       "      <td>82700</td>\n",
       "      <td>NaN</td>\n",
       "      <td>car_gurus</td>\n",
       "      <td>1.0</td>\n",
       "      <td>Chevrolet</td>\n",
       "    </tr>\n",
       "  </tbody>\n",
       "</table>\n",
       "</div>"
      ],
      "text/plain": [
       "   model_id  model_name                                         photo_urls  \\\n",
       "0      1511      Altima  [https://static.cargurus.com/images/forsale/20...   \n",
       "1      1440  Challenger  [https://static.cargurus.com/images/forsale/20...   \n",
       "2       880        RAV4  [https://static.cargurus.com/images/forsale/20...   \n",
       "3       957       F-150  [https://static.cargurus.com/images/forsale/20...   \n",
       "4      1276       Tahoe  [https://static.cargurus.com/images/forsale/20...   \n",
       "\n",
       "   price  previous_price provider_name  mileage  make_name  \n",
       "0  19999         20699.0     car_gurus  37658.0     Nissan  \n",
       "1  42395         44795.0     car_gurus   1072.0      Dodge  \n",
       "2  25239         25499.0     car_gurus  31556.0     Toyota  \n",
       "3  44430             NaN     car_gurus      NaN       Ford  \n",
       "4  82700             NaN     car_gurus      1.0  Chevrolet  "
      ]
     },
     "execution_count": 45,
     "metadata": {},
     "output_type": "execute_result"
    }
   ],
   "source": [
    "sedan_df.head()"
   ]
  },
  {
   "cell_type": "markdown",
   "id": "ab9b0cf6-8538-40c1-b8f9-20900463cad6",
   "metadata": {},
   "source": [
    "##### Step-13: Storing them into the excel file"
   ]
  },
  {
   "cell_type": "code",
   "execution_count": null,
   "id": "a2d805ca-2849-4976-9ba0-2c42eb46318f",
   "metadata": {},
   "outputs": [],
   "source": [
    "sedan_df.to_excel('sedan_single_page.xlsx', index=False)"
   ]
  },
  {
   "cell_type": "markdown",
   "id": "1b35ba50-56a3-420a-ae85-bbf17c748eee",
   "metadata": {},
   "source": [
    "##### Step-14: Scraping Multiple Pages (here: 5 pages to get 100 results)"
   ]
  },
  {
   "cell_type": "code",
   "execution_count": 87,
   "id": "3d951a01-f9b6-456c-99ec-15a45233cf7d",
   "metadata": {},
   "outputs": [
    {
     "name": "stdout",
     "output_type": "stream",
     "text": [
      "Page 1 Status Code: 200\n",
      "Page 2 Status Code: 200\n",
      "Page 3 Status Code: 200\n",
      "Page 4 Status Code: 200\n",
      "Page 5 Status Code: 200\n",
      "   model_id  model_name                                         photo_urls  \\\n",
      "0      1511      Altima  https://static.cargurus.com/images/forsale/202...   \n",
      "1      1440  Challenger  https://static.cargurus.com/images/forsale/202...   \n",
      "2       880        RAV4  https://static.cargurus.com/images/forsale/202...   \n",
      "3       957       F-150  https://static.cargurus.com/images/forsale/202...   \n",
      "4      1276       Tahoe  https://static.cargurus.com/images/forsale/202...   \n",
      "\n",
      "   price  previous_price provider_name  mileage  make_name  \n",
      "0  19999         20699.0     car_gurus  37658.0     Nissan  \n",
      "1  42395         44795.0     car_gurus   1072.0      Dodge  \n",
      "2  25239         25499.0     car_gurus  31556.0     Toyota  \n",
      "3  44430             NaN     car_gurus      NaN       Ford  \n",
      "4  82700             NaN     car_gurus      1.0  Chevrolet  \n"
     ]
    }
   ],
   "source": [
    "import requests\n",
    "import pandas as pd\n",
    "\n",
    "headers = {\n",
    "    'sec-ch-ua-platform': '\"Android\"',\n",
    "    'Referer': 'https://www.autolist.com/listings',\n",
    "    'User-Agent': 'Mozilla/5.0 (Linux; Android 6.0; Nexus 5 Build/MRA58N) AppleWebKit/537.36 (KHTML, like Gecko) Chrome/131.0.0.0 Mobile Safari/537.36',\n",
    "    'sec-ch-ua': '\"Google\"',\n",
    "    'sec-ch-ua-mobile': '?1',\n",
    "}\n",
    "\n",
    "model_id = []\n",
    "model_name = []\n",
    "photo_urls = []\n",
    "price = []\n",
    "previous_price = []\n",
    "provider_name = []\n",
    "mileage = []\n",
    "make_name = []\n",
    "\n",
    "for i in range(1, 6):\n",
    "    params = {\n",
    "        ('ads', 'true^'),\n",
    "        ('include_total_price_change', 'true^'),\n",
    "        ('include_time_on_market', 'true^'),\n",
    "        ('include_relative_price_difference', 'true^'),\n",
    "        ('body_style^/[^/]', 'sedan^'),\n",
    "        ('latitude', '30.2672^'),\n",
    "        ('limit', '20^'),\n",
    "        ('longitude', '-97.7431^'),\n",
    "        ('page', '1^'),\n",
    "        ('radius', '100^'),\n",
    "        ('zip', 'str(i)^'),\n",
    "    }\n",
    "\n",
    "    response = requests.get('https://www.autolist.com/api/v2/search', headers=headers, params=params)\n",
    "    print(f\"Page {i} Status Code: {response.status_code}\")\n",
    "\n",
    "    if response.status_code == 200:\n",
    "        try:\n",
    "            results_json = response.json()\n",
    "            if 'records' in results_json:\n",
    "                result_items = results_json['records']\n",
    "                for result in result_items:\n",
    "                    model_id.append(result.get('model_id', None))\n",
    "                    model_name.append(result.get('model_name', None))\n",
    "                    photo_urls.append(result.get('photo_urls', [None])[0] if result.get('photo_urls') else None)\n",
    "                    price.append(result.get('price', None))\n",
    "                    previous_price.append(result.get('previous_price', None))\n",
    "                    provider_name.append(result.get('provider_name', None))\n",
    "                    mileage.append(result.get('mileage', None))\n",
    "                    make_name.append(result.get('make_name', None))\n",
    "            else:\n",
    "                print(f\"No records found for page {i}\")\n",
    "        except ValueError as e:\n",
    "            print(f\"Error parsing JSON for page {i}: {e}\")\n",
    "            print(\"Response Text:\", response.text)\n",
    "    else:\n",
    "        print(f\"Failed to fetch data for page {i}: {response.text}\")\n",
    "\n",
    "# Create DataFrame\n",
    "sedan_multiple_df1 = pd.DataFrame({\n",
    "    'model_id': model_id,\n",
    "    'model_name': model_name,\n",
    "    'photo_urls': photo_urls,\n",
    "    'price': price,\n",
    "    'previous_price': previous_price,\n",
    "    'provider_name': provider_name,\n",
    "    'mileage': mileage,\n",
    "    'make_name': make_name,\n",
    "})\n",
    "\n",
    "print(sedan_multiple_df.head())"
   ]
  },
  {
   "cell_type": "markdown",
   "id": "6a47da4d-b83f-4c65-8f89-42af5a21738c",
   "metadata": {},
   "source": [
    "##### Step-15: Pandas DataFrame: Multiple Pages"
   ]
  },
  {
   "cell_type": "code",
   "execution_count": 88,
   "id": "25f1837c-3117-4fc3-a778-8e6b16751ea8",
   "metadata": {},
   "outputs": [],
   "source": [
    "sedan_multiple_df = pd.DataFrame({'model_id': model_id, 'model_name' : model_name, 'photo_urls' : photo_urls, 'price' : price, 'previous_price' : previous_price, 'provider_name' : provider_name, 'mileage': mileage, 'make_name' : make_name})"
   ]
  },
  {
   "cell_type": "markdown",
   "id": "076dc652-004d-49dd-946e-b9bb02ac50df",
   "metadata": {},
   "source": [
    "##### Step-16: Capturing the first 5 Records"
   ]
  },
  {
   "cell_type": "code",
   "execution_count": 89,
   "id": "9d2aa69a-1457-4951-b25a-d68ea49bb29b",
   "metadata": {},
   "outputs": [
    {
     "data": {
      "text/html": [
       "<div>\n",
       "<style scoped>\n",
       "    .dataframe tbody tr th:only-of-type {\n",
       "        vertical-align: middle;\n",
       "    }\n",
       "\n",
       "    .dataframe tbody tr th {\n",
       "        vertical-align: top;\n",
       "    }\n",
       "\n",
       "    .dataframe thead th {\n",
       "        text-align: right;\n",
       "    }\n",
       "</style>\n",
       "<table border=\"1\" class=\"dataframe\">\n",
       "  <thead>\n",
       "    <tr style=\"text-align: right;\">\n",
       "      <th></th>\n",
       "      <th>model_id</th>\n",
       "      <th>model_name</th>\n",
       "      <th>photo_urls</th>\n",
       "      <th>price</th>\n",
       "      <th>previous_price</th>\n",
       "      <th>provider_name</th>\n",
       "      <th>mileage</th>\n",
       "      <th>make_name</th>\n",
       "    </tr>\n",
       "  </thead>\n",
       "  <tbody>\n",
       "    <tr>\n",
       "      <th>0</th>\n",
       "      <td>1511</td>\n",
       "      <td>Altima</td>\n",
       "      <td>https://static.cargurus.com/images/forsale/202...</td>\n",
       "      <td>19999</td>\n",
       "      <td>20699.0</td>\n",
       "      <td>car_gurus</td>\n",
       "      <td>37658.0</td>\n",
       "      <td>Nissan</td>\n",
       "    </tr>\n",
       "    <tr>\n",
       "      <th>1</th>\n",
       "      <td>1440</td>\n",
       "      <td>Challenger</td>\n",
       "      <td>https://static.cargurus.com/images/forsale/202...</td>\n",
       "      <td>42395</td>\n",
       "      <td>44795.0</td>\n",
       "      <td>car_gurus</td>\n",
       "      <td>1072.0</td>\n",
       "      <td>Dodge</td>\n",
       "    </tr>\n",
       "    <tr>\n",
       "      <th>2</th>\n",
       "      <td>880</td>\n",
       "      <td>RAV4</td>\n",
       "      <td>https://static.cargurus.com/images/forsale/202...</td>\n",
       "      <td>25239</td>\n",
       "      <td>25499.0</td>\n",
       "      <td>car_gurus</td>\n",
       "      <td>31556.0</td>\n",
       "      <td>Toyota</td>\n",
       "    </tr>\n",
       "    <tr>\n",
       "      <th>3</th>\n",
       "      <td>957</td>\n",
       "      <td>F-150</td>\n",
       "      <td>https://static.cargurus.com/images/forsale/202...</td>\n",
       "      <td>44430</td>\n",
       "      <td>NaN</td>\n",
       "      <td>car_gurus</td>\n",
       "      <td>NaN</td>\n",
       "      <td>Ford</td>\n",
       "    </tr>\n",
       "    <tr>\n",
       "      <th>4</th>\n",
       "      <td>1276</td>\n",
       "      <td>Tahoe</td>\n",
       "      <td>https://static.cargurus.com/images/forsale/202...</td>\n",
       "      <td>82700</td>\n",
       "      <td>NaN</td>\n",
       "      <td>car_gurus</td>\n",
       "      <td>1.0</td>\n",
       "      <td>Chevrolet</td>\n",
       "    </tr>\n",
       "  </tbody>\n",
       "</table>\n",
       "</div>"
      ],
      "text/plain": [
       "   model_id  model_name                                         photo_urls  \\\n",
       "0      1511      Altima  https://static.cargurus.com/images/forsale/202...   \n",
       "1      1440  Challenger  https://static.cargurus.com/images/forsale/202...   \n",
       "2       880        RAV4  https://static.cargurus.com/images/forsale/202...   \n",
       "3       957       F-150  https://static.cargurus.com/images/forsale/202...   \n",
       "4      1276       Tahoe  https://static.cargurus.com/images/forsale/202...   \n",
       "\n",
       "   price  previous_price provider_name  mileage  make_name  \n",
       "0  19999         20699.0     car_gurus  37658.0     Nissan  \n",
       "1  42395         44795.0     car_gurus   1072.0      Dodge  \n",
       "2  25239         25499.0     car_gurus  31556.0     Toyota  \n",
       "3  44430             NaN     car_gurus      NaN       Ford  \n",
       "4  82700             NaN     car_gurus      1.0  Chevrolet  "
      ]
     },
     "execution_count": 89,
     "metadata": {},
     "output_type": "execute_result"
    }
   ],
   "source": [
    "sedan_multiple_df.head()"
   ]
  },
  {
   "cell_type": "markdown",
   "id": "22204ad9-c409-489a-a6b9-b1bc8fe22d7f",
   "metadata": {},
   "source": [
    "##### Step-17: Storing them into the excel sheet"
   ]
  },
  {
   "cell_type": "code",
   "execution_count": null,
   "id": "974b53b8-9cc9-41fe-b232-3d628268d497",
   "metadata": {},
   "outputs": [],
   "source": [
    "sedan_multiple_df.to_excel('sedan_multiple_pages.xlsx', index=False)"
   ]
  }
 ],
 "metadata": {
  "kernelspec": {
   "display_name": "Python 3 (ipykernel)",
   "language": "python",
   "name": "python3"
  },
  "language_info": {
   "codemirror_mode": {
    "name": "ipython",
    "version": 3
   },
   "file_extension": ".py",
   "mimetype": "text/x-python",
   "name": "python",
   "nbconvert_exporter": "python",
   "pygments_lexer": "ipython3",
   "version": "3.8.8"
  }
 },
 "nbformat": 4,
 "nbformat_minor": 5
}
